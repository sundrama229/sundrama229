{
 "cells": [
  {
   "cell_type": "code",
   "execution_count": 17,
   "id": "5e3a46b9",
   "metadata": {
    "scrolled": true
   },
   "outputs": [
    {
     "data": {
      "text/plain": [
       "'Python Basics'"
      ]
     },
     "execution_count": 17,
     "metadata": {},
     "output_type": "execute_result"
    }
   ],
   "source": [
    "    a=15\n",
    "    a\n",
    "    s=\"Python Basics\"\n",
    "    s.find('n')\n",
    "    s.replace('n','sss')\n",
    "    s.center(10,'A')"
   ]
  },
  {
   "cell_type": "code",
   "execution_count": 24,
   "id": "44546ff5",
   "metadata": {},
   "outputs": [
    {
     "data": {
      "text/plain": [
       "['Pytho', ' Basics']"
      ]
     },
     "execution_count": 24,
     "metadata": {},
     "output_type": "execute_result"
    }
   ],
   "source": [
    "s=\"Python Basics\"\n",
    "s.center(15,' ')\n",
    "s.lower()\n",
    "s.upper()\n",
    "s.replace('n','nn')\n",
    "s.split('n')"
   ]
  },
  {
   "cell_type": "code",
   "execution_count": 29,
   "id": "5dd5d7ac",
   "metadata": {},
   "outputs": [
    {
     "data": {
      "text/plain": [
       "str"
      ]
     },
     "execution_count": 29,
     "metadata": {},
     "output_type": "execute_result"
    }
   ],
   "source": [
    "a=15\n",
    "type(a)\n",
    "b=\"SSr\"\n",
    "type(b)"
   ]
  },
  {
   "cell_type": "code",
   "execution_count": 31,
   "id": "1f333661",
   "metadata": {},
   "outputs": [
    {
     "data": {
      "text/plain": [
       "str"
      ]
     },
     "execution_count": 31,
     "metadata": {},
     "output_type": "execute_result"
    }
   ],
   "source": [
    "c='ssR'\n",
    "c\n",
    "type(c)"
   ]
  },
  {
   "cell_type": "code",
   "execution_count": 33,
   "id": "f4a0be27",
   "metadata": {},
   "outputs": [
    {
     "data": {
      "text/plain": [
       "110"
      ]
     },
     "execution_count": 33,
     "metadata": {},
     "output_type": "execute_result"
    }
   ],
   "source": [
    "a=10\n",
    "b=11\n",
    "a+b\n",
    "a*b"
   ]
  },
  {
   "cell_type": "code",
   "execution_count": 34,
   "id": "775818d6",
   "metadata": {},
   "outputs": [
    {
     "data": {
      "text/plain": [
       "float"
      ]
     },
     "execution_count": 34,
     "metadata": {},
     "output_type": "execute_result"
    }
   ],
   "source": [
    "f=2.16\n",
    "type(f)"
   ]
  },
  {
   "cell_type": "code",
   "execution_count": 38,
   "id": "3629665b",
   "metadata": {},
   "outputs": [
    {
     "data": {
      "text/plain": [
       "2.0"
      ]
     },
     "execution_count": 38,
     "metadata": {},
     "output_type": "execute_result"
    }
   ],
   "source": [
    "x=7+2j ## complex number 7 is real j is imaginary part\n",
    "type(x)\n",
    "x.real\n",
    "x.imag\n"
   ]
  },
  {
   "cell_type": "code",
   "execution_count": 40,
   "id": "2f04c221",
   "metadata": {},
   "outputs": [
    {
     "data": {
      "text/plain": [
       "'1SSR'"
      ]
     },
     "execution_count": 40,
     "metadata": {},
     "output_type": "execute_result"
    }
   ],
   "source": [
    "\"1\"+\"SSR\""
   ]
  },
  {
   "cell_type": "code",
   "execution_count": 41,
   "id": "9d66fc93",
   "metadata": {},
   "outputs": [
    {
     "data": {
      "text/plain": [
       "'4Ssr'"
      ]
     },
     "execution_count": 41,
     "metadata": {},
     "output_type": "execute_result"
    }
   ],
   "source": [
    "str(4)+\"Ssr\" ## strong type casting ,  dynamic casting"
   ]
  },
  {
   "cell_type": "code",
   "execution_count": 42,
   "id": "8df7e7ed",
   "metadata": {},
   "outputs": [
    {
     "data": {
      "text/plain": [
       "'Y'"
      ]
     },
     "execution_count": 42,
     "metadata": {},
     "output_type": "execute_result"
    }
   ],
   "source": [
    "s=\"Yuvajith Sanjith\" \n",
    "s[0]\n"
   ]
  },
  {
   "cell_type": "code",
   "execution_count": 43,
   "id": "31a1c5cd",
   "metadata": {},
   "outputs": [
    {
     "ename": "IndexError",
     "evalue": "string index out of range",
     "output_type": "error",
     "traceback": [
      "\u001b[1;31m---------------------------------------------------------------------------\u001b[0m",
      "\u001b[1;31mIndexError\u001b[0m                                Traceback (most recent call last)",
      "\u001b[1;32m<ipython-input-43-42ecd9edca24>\u001b[0m in \u001b[0;36m<module>\u001b[1;34m\u001b[0m\n\u001b[0;32m      1\u001b[0m \u001b[0ms\u001b[0m\u001b[1;33m=\u001b[0m\u001b[1;34m\"Yuvajith Sanjith\"\u001b[0m\u001b[1;33m\u001b[0m\u001b[1;33m\u001b[0m\u001b[0m\n\u001b[1;32m----> 2\u001b[1;33m \u001b[0ms\u001b[0m\u001b[1;33m[\u001b[0m\u001b[1;36m90\u001b[0m\u001b[1;33m]\u001b[0m\u001b[1;33m\u001b[0m\u001b[1;33m\u001b[0m\u001b[0m\n\u001b[0m",
      "\u001b[1;31mIndexError\u001b[0m: string index out of range"
     ]
    }
   ],
   "source": [
    "s=\"Yuvajith Sanjith\" \n",
    "s[90]"
   ]
  },
  {
   "cell_type": "code",
   "execution_count": 45,
   "id": "724acc4b",
   "metadata": {},
   "outputs": [
    {
     "data": {
      "text/plain": [
       "'t'"
      ]
     },
     "execution_count": 45,
     "metadata": {},
     "output_type": "execute_result"
    }
   ],
   "source": [
    "s[-2] ## backward indexing\n"
   ]
  },
  {
   "cell_type": "code",
   "execution_count": 46,
   "id": "53eb7382",
   "metadata": {},
   "outputs": [
    {
     "data": {
      "text/plain": [
       "'Yuvaj'"
      ]
     },
     "execution_count": 46,
     "metadata": {},
     "output_type": "execute_result"
    }
   ],
   "source": [
    "s[0:5] ##slicing operation"
   ]
  },
  {
   "cell_type": "code",
   "execution_count": 47,
   "id": "eaca4b1d",
   "metadata": {},
   "outputs": [
    {
     "data": {
      "text/plain": [
       "'ith Sanjith'"
      ]
     },
     "execution_count": 47,
     "metadata": {},
     "output_type": "execute_result"
    }
   ],
   "source": [
    "s[5:90] ## still it works even it is more than the index "
   ]
  },
  {
   "cell_type": "code",
   "execution_count": 50,
   "id": "f3f43f3a",
   "metadata": {},
   "outputs": [
    {
     "data": {
      "text/plain": [
       "'Yvjt ajt'"
      ]
     },
     "execution_count": 50,
     "metadata": {},
     "output_type": "execute_result"
    }
   ],
   "source": [
    "s[0:len(s):2] ## 2->step size, or jump\n",
    "s[0:16:2]"
   ]
  },
  {
   "cell_type": "code",
   "execution_count": 51,
   "id": "2348b91b",
   "metadata": {},
   "outputs": [
    {
     "data": {
      "text/plain": [
       "'Yvjt ajt'"
      ]
     },
     "execution_count": 51,
     "metadata": {},
     "output_type": "execute_result"
    }
   ],
   "source": [
    "s[::2] ## by default starting and ending it takes automatically"
   ]
  },
  {
   "cell_type": "code",
   "execution_count": 52,
   "id": "2d68e20b",
   "metadata": {},
   "outputs": [
    {
     "data": {
      "text/plain": [
       "'Yvjt ajt'"
      ]
     },
     "execution_count": 52,
     "metadata": {},
     "output_type": "execute_result"
    }
   ],
   "source": [
    "s[0::2] # same result like above"
   ]
  },
  {
   "cell_type": "code",
   "execution_count": 53,
   "id": "a288ef47",
   "metadata": {},
   "outputs": [
    {
     "data": {
      "text/plain": [
       "'Y'"
      ]
     },
     "execution_count": 53,
     "metadata": {},
     "output_type": "execute_result"
    }
   ],
   "source": [
    "s[0::-1]"
   ]
  },
  {
   "cell_type": "code",
   "execution_count": 54,
   "id": "18a60268",
   "metadata": {},
   "outputs": [
    {
     "data": {
      "text/plain": [
       "'htijnaS htijavuY'"
      ]
     },
     "execution_count": 54,
     "metadata": {},
     "output_type": "execute_result"
    }
   ],
   "source": [
    "s[::-1]"
   ]
  },
  {
   "cell_type": "code",
   "execution_count": 55,
   "id": "d6866951",
   "metadata": {},
   "outputs": [
    {
     "data": {
      "text/plain": [
       "''"
      ]
     },
     "execution_count": 55,
     "metadata": {},
     "output_type": "execute_result"
    }
   ],
   "source": [
    "s[0:5:-1]"
   ]
  },
  {
   "cell_type": "code",
   "execution_count": 56,
   "id": "b60e9915",
   "metadata": {},
   "outputs": [
    {
     "data": {
      "text/plain": [
       "''"
      ]
     },
     "execution_count": 56,
     "metadata": {},
     "output_type": "execute_result"
    }
   ],
   "source": [
    "s[0:10:-1]"
   ]
  },
  {
   "cell_type": "code",
   "execution_count": 57,
   "id": "0d74ab08",
   "metadata": {},
   "outputs": [
    {
     "data": {
      "text/plain": [
       "''"
      ]
     },
     "execution_count": 57,
     "metadata": {},
     "output_type": "execute_result"
    }
   ],
   "source": [
    "s[5:1:1]"
   ]
  },
  {
   "cell_type": "code",
   "execution_count": 58,
   "id": "80a46c24",
   "metadata": {},
   "outputs": [
    {
     "data": {
      "text/plain": [
       "'ijav'"
      ]
     },
     "execution_count": 58,
     "metadata": {},
     "output_type": "execute_result"
    }
   ],
   "source": [
    "s[5:1:-1] ## string slicing or indexing(backward or forward)"
   ]
  },
  {
   "cell_type": "code",
   "execution_count": 59,
   "id": "ba84feec",
   "metadata": {},
   "outputs": [
    {
     "data": {
      "text/plain": [
       "'htijnaS htijavuY'"
      ]
     },
     "execution_count": 59,
     "metadata": {},
     "output_type": "execute_result"
    }
   ],
   "source": [
    "s[::-1]"
   ]
  },
  {
   "cell_type": "code",
   "execution_count": 62,
   "id": "fb59effe",
   "metadata": {},
   "outputs": [
    {
     "data": {
      "text/plain": [
       "'ija'"
      ]
     },
     "execution_count": 62,
     "metadata": {},
     "output_type": "execute_result"
    }
   ],
   "source": [
    "s[5:-1:-1]\n",
    "s[5:2:-1]"
   ]
  },
  {
   "cell_type": "code",
   "execution_count": 63,
   "id": "1ed2f59e",
   "metadata": {},
   "outputs": [
    {
     "data": {
      "text/plain": [
       "23"
      ]
     },
     "execution_count": 63,
     "metadata": {},
     "output_type": "execute_result"
    }
   ],
   "source": [
    "t=\"This is my second class\"\n",
    "len(t)"
   ]
  },
  {
   "cell_type": "code",
   "execution_count": 65,
   "id": "5826a681",
   "metadata": {},
   "outputs": [
    {
     "data": {
      "text/plain": [
       "'SSR SSR SSR SSR SSR SSR SSR SSR SSR SSR '"
      ]
     },
     "execution_count": 65,
     "metadata": {},
     "output_type": "execute_result"
    }
   ],
   "source": [
    "\"SSR \" * 10"
   ]
  },
  {
   "cell_type": "code",
   "execution_count": 67,
   "id": "c6c68ae6",
   "metadata": {},
   "outputs": [
    {
     "ename": "TypeError",
     "evalue": "unsupported operand type(s) for /: 'str' and 'int'",
     "output_type": "error",
     "traceback": [
      "\u001b[1;31m---------------------------------------------------------------------------\u001b[0m",
      "\u001b[1;31mTypeError\u001b[0m                                 Traceback (most recent call last)",
      "\u001b[1;32m<ipython-input-67-87ffff3ab185>\u001b[0m in \u001b[0;36m<module>\u001b[1;34m\u001b[0m\n\u001b[0;32m      1\u001b[0m \u001b[1;36m4\u001b[0m\u001b[1;33m/\u001b[0m\u001b[1;36m6\u001b[0m\u001b[1;33m\u001b[0m\u001b[1;33m\u001b[0m\u001b[0m\n\u001b[1;32m----> 2\u001b[1;33m \u001b[1;34m\"ssr\"\u001b[0m\u001b[1;33m/\u001b[0m\u001b[1;36m6\u001b[0m\u001b[1;33m\u001b[0m\u001b[1;33m\u001b[0m\u001b[0m\n\u001b[0m",
      "\u001b[1;31mTypeError\u001b[0m: unsupported operand type(s) for /: 'str' and 'int'"
     ]
    }
   ],
   "source": [
    "3/6\n",
    "\"ssr\"/6"
   ]
  },
  {
   "cell_type": "code",
   "execution_count": 68,
   "id": "cd7ad70a",
   "metadata": {},
   "outputs": [
    {
     "data": {
      "text/plain": [
       "bool"
      ]
     },
     "execution_count": 68,
     "metadata": {},
     "output_type": "execute_result"
    }
   ],
   "source": [
    "a=True\n",
    "type(a)"
   ]
  },
  {
   "cell_type": "code",
   "execution_count": 69,
   "id": "64df3c87",
   "metadata": {},
   "outputs": [
    {
     "data": {
      "text/plain": [
       "bool"
      ]
     },
     "execution_count": 69,
     "metadata": {},
     "output_type": "execute_result"
    }
   ],
   "source": [
    "a=False\n",
    "type(a)"
   ]
  },
  {
   "cell_type": "code",
   "execution_count": 70,
   "id": "253726c8",
   "metadata": {},
   "outputs": [
    {
     "data": {
      "text/plain": [
       "0"
      ]
     },
     "execution_count": 70,
     "metadata": {},
     "output_type": "execute_result"
    }
   ],
   "source": [
    "True-True ## true is equivalent to 1"
   ]
  },
  {
   "cell_type": "code",
   "execution_count": 71,
   "id": "af9ff481",
   "metadata": {},
   "outputs": [
    {
     "data": {
      "text/plain": [
       "1"
      ]
     },
     "execution_count": 71,
     "metadata": {},
     "output_type": "execute_result"
    }
   ],
   "source": [
    "True-False"
   ]
  },
  {
   "cell_type": "code",
   "execution_count": 72,
   "id": "e3bc1f6a",
   "metadata": {},
   "outputs": [
    {
     "data": {
      "text/plain": [
       "1"
      ]
     },
     "execution_count": 72,
     "metadata": {},
     "output_type": "execute_result"
    }
   ],
   "source": [
    "True*True"
   ]
  },
  {
   "cell_type": "code",
   "execution_count": 73,
   "id": "bd2e3837",
   "metadata": {},
   "outputs": [
    {
     "data": {
      "text/plain": [
       "1.0"
      ]
     },
     "execution_count": 73,
     "metadata": {},
     "output_type": "execute_result"
    }
   ],
   "source": [
    "True/True"
   ]
  },
  {
   "cell_type": "code",
   "execution_count": 74,
   "id": "968e2730",
   "metadata": {},
   "outputs": [
    {
     "ename": "ZeroDivisionError",
     "evalue": "division by zero",
     "output_type": "error",
     "traceback": [
      "\u001b[1;31m---------------------------------------------------------------------------\u001b[0m",
      "\u001b[1;31mZeroDivisionError\u001b[0m                         Traceback (most recent call last)",
      "\u001b[1;32m<ipython-input-74-f64d1295bbce>\u001b[0m in \u001b[0;36m<module>\u001b[1;34m\u001b[0m\n\u001b[1;32m----> 1\u001b[1;33m \u001b[1;32mTrue\u001b[0m\u001b[1;33m/\u001b[0m\u001b[1;32mFalse\u001b[0m\u001b[1;33m\u001b[0m\u001b[1;33m\u001b[0m\u001b[0m\n\u001b[0m",
      "\u001b[1;31mZeroDivisionError\u001b[0m: division by zero"
     ]
    }
   ],
   "source": [
    "True/False  ## in numpy it works gives inf"
   ]
  },
  {
   "cell_type": "code",
   "execution_count": null,
   "id": "42df8cc5",
   "metadata": {},
   "outputs": [],
   "source": []
  },
  {
   "cell_type": "code",
   "execution_count": 76,
   "id": "87d022f7",
   "metadata": {},
   "outputs": [
    {
     "name": "stderr",
     "output_type": "stream",
     "text": [
      "<ipython-input-76-0dc948cfa281>:2: RuntimeWarning: divide by zero encountered in true_divide\n",
      "  np.asanyarray([0,1])/0\n",
      "<ipython-input-76-0dc948cfa281>:2: RuntimeWarning: invalid value encountered in true_divide\n",
      "  np.asanyarray([0,1])/0\n"
     ]
    },
    {
     "data": {
      "text/plain": [
       "array([nan, inf])"
      ]
     },
     "execution_count": 76,
     "metadata": {},
     "output_type": "execute_result"
    }
   ],
   "source": [
    "import numpy as np\n",
    "np.asanyarray([0,1])/0"
   ]
  },
  {
   "cell_type": "code",
   "execution_count": 139,
   "id": "c17dbd35",
   "metadata": {},
   "outputs": [
    {
     "data": {
      "text/plain": [
       "[5]"
      ]
     },
     "execution_count": 139,
     "metadata": {},
     "output_type": "execute_result"
    }
   ],
   "source": [
    "l=[1,3,4,5,6]\n",
    "c=[1,2,\"sundar\",45,3.56,5+7j,[3,4,5,6]] ## LIST:list in square bracket. collection of heterogenious data set, primitive data type\n",
    "type(c)\n",
    "\n",
    "l[3:-1]\n"
   ]
  },
  {
   "cell_type": "markdown",
   "id": "d1c95ec8",
   "metadata": {},
   "source": []
  },
  {
   "cell_type": "code",
   "execution_count": 146,
   "id": "e00342ed",
   "metadata": {},
   "outputs": [
    {
     "data": {
      "text/plain": [
       "6"
      ]
     },
     "execution_count": 146,
     "metadata": {},
     "output_type": "execute_result"
    }
   ],
   "source": [
    "l[-1]"
   ]
  },
  {
   "cell_type": "code",
   "execution_count": 82,
   "id": "93d6b3b5",
   "metadata": {},
   "outputs": [
    {
     "data": {
      "text/plain": [
       "[1, 2, 'dd', 45]"
      ]
     },
     "execution_count": 82,
     "metadata": {},
     "output_type": "execute_result"
    }
   ],
   "source": [
    "c[0:4]"
   ]
  },
  {
   "cell_type": "code",
   "execution_count": 83,
   "id": "a8c057eb",
   "metadata": {},
   "outputs": [
    {
     "data": {
      "text/plain": [
       "[(5+7j), 3.56, 45, 'dd', 2, 1]"
      ]
     },
     "execution_count": 83,
     "metadata": {},
     "output_type": "execute_result"
    }
   ],
   "source": [
    "c[::-1]"
   ]
  },
  {
   "cell_type": "code",
   "execution_count": 84,
   "id": "fb4cdd26",
   "metadata": {},
   "outputs": [
    {
     "data": {
      "text/plain": [
       "[(5+7j), 3.56, 45, 'dd', 2]"
      ]
     },
     "execution_count": 84,
     "metadata": {},
     "output_type": "execute_result"
    }
   ],
   "source": [
    "c[5:0:-1]"
   ]
  },
  {
   "cell_type": "code",
   "execution_count": 85,
   "id": "8d52ffb8",
   "metadata": {},
   "outputs": [
    {
     "data": {
      "text/plain": [
       "[]"
      ]
     },
     "execution_count": 85,
     "metadata": {},
     "output_type": "execute_result"
    }
   ],
   "source": [
    "c[5:10:-1]"
   ]
  },
  {
   "cell_type": "code",
   "execution_count": 87,
   "id": "47871051",
   "metadata": {},
   "outputs": [
    {
     "data": {
      "text/plain": [
       "[3.56, 45, 'dd']"
      ]
     },
     "execution_count": 87,
     "metadata": {},
     "output_type": "execute_result"
    }
   ],
   "source": [
    "c[-2:-5:-1]"
   ]
  },
  {
   "cell_type": "code",
   "execution_count": 90,
   "id": "c87f8899",
   "metadata": {},
   "outputs": [
    {
     "data": {
      "text/plain": [
       "'dd'"
      ]
     },
     "execution_count": 90,
     "metadata": {},
     "output_type": "execute_result"
    }
   ],
   "source": [
    "c[2][::-1]"
   ]
  },
  {
   "cell_type": "code",
   "execution_count": 92,
   "id": "615b257a",
   "metadata": {},
   "outputs": [
    {
     "data": {
      "text/plain": [
       "[6, 5, 4, 3]"
      ]
     },
     "execution_count": 92,
     "metadata": {},
     "output_type": "execute_result"
    }
   ],
   "source": [
    "c=[1,2,\"sundar\",45,3.56,5+7j,[3,4,5,6]] \n",
    "c[-1][::-1]"
   ]
  },
  {
   "cell_type": "code",
   "execution_count": 93,
   "id": "59b5e84e",
   "metadata": {},
   "outputs": [
    {
     "ename": "TypeError",
     "evalue": "'int' object is not subscriptable",
     "output_type": "error",
     "traceback": [
      "\u001b[1;31m---------------------------------------------------------------------------\u001b[0m",
      "\u001b[1;31mTypeError\u001b[0m                                 Traceback (most recent call last)",
      "\u001b[1;32m<ipython-input-93-04d6f1f2d49d>\u001b[0m in \u001b[0;36m<module>\u001b[1;34m\u001b[0m\n\u001b[1;32m----> 1\u001b[1;33m \u001b[0mc\u001b[0m\u001b[1;33m[\u001b[0m\u001b[1;36m1\u001b[0m\u001b[1;33m]\u001b[0m\u001b[1;33m[\u001b[0m\u001b[1;33m:\u001b[0m\u001b[1;33m:\u001b[0m\u001b[1;33m-\u001b[0m\u001b[1;36m1\u001b[0m\u001b[1;33m]\u001b[0m\u001b[1;33m\u001b[0m\u001b[1;33m\u001b[0m\u001b[0m\n\u001b[0m",
      "\u001b[1;31mTypeError\u001b[0m: 'int' object is not subscriptable"
     ]
    }
   ],
   "source": [
    "c[1][::-1]"
   ]
  },
  {
   "cell_type": "code",
   "execution_count": 94,
   "id": "8170e44f",
   "metadata": {},
   "outputs": [
    {
     "ename": "TypeError",
     "evalue": "can only concatenate list (not \"str\") to list",
     "output_type": "error",
     "traceback": [
      "\u001b[1;31m---------------------------------------------------------------------------\u001b[0m",
      "\u001b[1;31mTypeError\u001b[0m                                 Traceback (most recent call last)",
      "\u001b[1;32m<ipython-input-94-7d7a9f6d7b83>\u001b[0m in \u001b[0;36m<module>\u001b[1;34m\u001b[0m\n\u001b[0;32m      1\u001b[0m \u001b[0ma\u001b[0m\u001b[1;33m=\u001b[0m\u001b[1;33m[\u001b[0m\u001b[1;36m1\u001b[0m\u001b[1;33m,\u001b[0m\u001b[1;36m2\u001b[0m\u001b[1;33m,\u001b[0m\u001b[1;36m3\u001b[0m\u001b[1;33m,\u001b[0m\u001b[1;36m4\u001b[0m\u001b[1;33m]\u001b[0m\u001b[1;33m\u001b[0m\u001b[1;33m\u001b[0m\u001b[0m\n\u001b[1;32m----> 2\u001b[1;33m \u001b[0ma\u001b[0m\u001b[1;33m+\u001b[0m\u001b[1;34m\"Ssr\"\u001b[0m\u001b[1;33m\u001b[0m\u001b[1;33m\u001b[0m\u001b[0m\n\u001b[0m",
      "\u001b[1;31mTypeError\u001b[0m: can only concatenate list (not \"str\") to list"
     ]
    }
   ],
   "source": [
    "a=[1,2,3,4]\n",
    "a+\"Ssr\""
   ]
  },
  {
   "cell_type": "code",
   "execution_count": 95,
   "id": "6b67a9d6",
   "metadata": {},
   "outputs": [
    {
     "data": {
      "text/plain": [
       "[1, 2, 3, 4, 1, 2, 'sundar', 45, 3.56, (5+7j), [3, 4, 5, 6]]"
      ]
     },
     "execution_count": 95,
     "metadata": {},
     "output_type": "execute_result"
    }
   ],
   "source": [
    "a=[1,2,3,4]\n",
    "a+list(c)"
   ]
  },
  {
   "cell_type": "code",
   "execution_count": 96,
   "id": "c105289a",
   "metadata": {},
   "outputs": [
    {
     "data": {
      "text/plain": [
       "[1, 2, 3, 4, 1, 2, 3, 4, 1, 2, 3, 4, 1, 2, 3, 4]"
      ]
     },
     "execution_count": 96,
     "metadata": {},
     "output_type": "execute_result"
    }
   ],
   "source": [
    "a*4"
   ]
  },
  {
   "cell_type": "code",
   "execution_count": 97,
   "id": "65059a77",
   "metadata": {},
   "outputs": [
    {
     "data": {
      "text/plain": [
       "range(0, 10)"
      ]
     },
     "execution_count": 97,
     "metadata": {},
     "output_type": "execute_result"
    }
   ],
   "source": [
    "range(10)"
   ]
  },
  {
   "cell_type": "code",
   "execution_count": 98,
   "id": "8cf08383",
   "metadata": {},
   "outputs": [
    {
     "data": {
      "text/plain": [
       "[0, 1, 2, 3, 4, 5, 6, 7, 8, 9]"
      ]
     },
     "execution_count": 98,
     "metadata": {},
     "output_type": "execute_result"
    }
   ],
   "source": [
    "list(range(10)) ## data generation"
   ]
  },
  {
   "cell_type": "code",
   "execution_count": 102,
   "id": "14757d4e",
   "metadata": {},
   "outputs": [
    {
     "data": {
      "text/plain": [
       "[4, 5, 6, 7, 8, 9]"
      ]
     },
     "execution_count": 102,
     "metadata": {},
     "output_type": "execute_result"
    }
   ],
   "source": [
    "list(range(4,10))"
   ]
  },
  {
   "cell_type": "code",
   "execution_count": 103,
   "id": "e7c70bf7",
   "metadata": {},
   "outputs": [
    {
     "data": {
      "text/plain": [
       "[4, 6, 8]"
      ]
     },
     "execution_count": 103,
     "metadata": {},
     "output_type": "execute_result"
    }
   ],
   "source": [
    "list(range(4,10,2))"
   ]
  },
  {
   "cell_type": "code",
   "execution_count": 104,
   "id": "01be2287",
   "metadata": {},
   "outputs": [
    {
     "data": {
      "text/plain": [
       "[]"
      ]
     },
     "execution_count": 104,
     "metadata": {},
     "output_type": "execute_result"
    }
   ],
   "source": [
    "list(range(-3,-13,1))"
   ]
  },
  {
   "cell_type": "code",
   "execution_count": 105,
   "id": "215dcb1b",
   "metadata": {},
   "outputs": [
    {
     "data": {
      "text/plain": [
       "[-3, -4, -5, -6, -7, -8, -9, -10, -11, -12]"
      ]
     },
     "execution_count": 105,
     "metadata": {},
     "output_type": "execute_result"
    }
   ],
   "source": [
    "list(range(-3,-13,-1))"
   ]
  },
  {
   "cell_type": "code",
   "execution_count": 108,
   "id": "87b3922a",
   "metadata": {},
   "outputs": [
    {
     "data": {
      "text/plain": [
       "[1, 5, 9, 13, 17]"
      ]
     },
     "execution_count": 108,
     "metadata": {},
     "output_type": "execute_result"
    }
   ],
   "source": [
    "list(range(1,20,4))"
   ]
  },
  {
   "cell_type": "code",
   "execution_count": 109,
   "id": "d391d048",
   "metadata": {},
   "outputs": [
    {
     "data": {
      "text/plain": [
       "20"
      ]
     },
     "execution_count": 109,
     "metadata": {},
     "output_type": "execute_result"
    }
   ],
   "source": [
    "a=10\n",
    "b=10\n",
    "a+b"
   ]
  },
  {
   "cell_type": "code",
   "execution_count": 115,
   "id": "f4be787b",
   "metadata": {},
   "outputs": [
    {
     "name": "stdout",
     "output_type": "stream",
     "text": [
      "Enter first numberff\n"
     ]
    },
    {
     "ename": "ValueError",
     "evalue": "invalid literal for int() with base 10: 'ff'",
     "output_type": "error",
     "traceback": [
      "\u001b[1;31m---------------------------------------------------------------------------\u001b[0m",
      "\u001b[1;31mValueError\u001b[0m                                Traceback (most recent call last)",
      "\u001b[1;32m<ipython-input-115-31d0b7ffa4b8>\u001b[0m in \u001b[0;36m<module>\u001b[1;34m\u001b[0m\n\u001b[1;32m----> 1\u001b[1;33m \u001b[0ma\u001b[0m\u001b[1;33m=\u001b[0m\u001b[0mint\u001b[0m\u001b[1;33m(\u001b[0m\u001b[0minput\u001b[0m\u001b[1;33m(\u001b[0m\u001b[1;34m\"Enter first number\"\u001b[0m\u001b[1;33m)\u001b[0m\u001b[1;33m)\u001b[0m \u001b[1;31m## converts input string\u001b[0m\u001b[1;33m\u001b[0m\u001b[1;33m\u001b[0m\u001b[0m\n\u001b[0m\u001b[0;32m      2\u001b[0m \u001b[0mb\u001b[0m\u001b[1;33m=\u001b[0m\u001b[0mint\u001b[0m\u001b[1;33m(\u001b[0m\u001b[0minput\u001b[0m\u001b[1;33m(\u001b[0m\u001b[1;34m\"Enter second number\"\u001b[0m\u001b[1;33m)\u001b[0m\u001b[1;33m)\u001b[0m\u001b[1;33m\u001b[0m\u001b[1;33m\u001b[0m\u001b[0m\n\u001b[0;32m      3\u001b[0m \u001b[0ma\u001b[0m\u001b[1;33m+\u001b[0m\u001b[0mb\u001b[0m\u001b[1;33m\u001b[0m\u001b[1;33m\u001b[0m\u001b[0m\n",
      "\u001b[1;31mValueError\u001b[0m: invalid literal for int() with base 10: 'ff'"
     ]
    }
   ],
   "source": [
    "a=int(input(\"Enter first number\")) ## always converts input string so do typecast to int\n",
    "b=int(input(\"Enter second number\"))\n",
    "a+b\n"
   ]
  },
  {
   "cell_type": "code",
   "execution_count": 121,
   "id": "568d3838",
   "metadata": {},
   "outputs": [
    {
     "name": "stdout",
     "output_type": "stream",
     "text": [
      "Enter first number45.5\n",
      "Enter second number55\n"
     ]
    },
    {
     "data": {
      "text/plain": [
       "100.5"
      ]
     },
     "execution_count": 121,
     "metadata": {},
     "output_type": "execute_result"
    }
   ],
   "source": [
    "a=input(\"Enter first number\") ## always converts input string so do typecast to int\n",
    "b=input(\"Enter second number\")\n",
    "float(a)+int(b)"
   ]
  },
  {
   "cell_type": "code",
   "execution_count": null,
   "id": "40c9b627",
   "metadata": {},
   "outputs": [],
   "source": []
  },
  {
   "cell_type": "code",
   "execution_count": 117,
   "id": "c3bb5e1d",
   "metadata": {},
   "outputs": [
    {
     "name": "stdout",
     "output_type": "stream",
     "text": [
      "Enter first number45\n",
      "Enter second number44\n"
     ]
    },
    {
     "data": {
      "text/plain": [
       "int"
      ]
     },
     "execution_count": 117,
     "metadata": {},
     "output_type": "execute_result"
    }
   ],
   "source": [
    "a=input(\"Enter first number\") ## always converts input string so do typecast to int\n",
    "b=int(input(\"Enter second number\"))\n",
    "type(a)\n",
    "type(b) ## it only prints this one"
   ]
  },
  {
   "cell_type": "code",
   "execution_count": 118,
   "id": "867ffa3a",
   "metadata": {},
   "outputs": [
    {
     "name": "stdout",
     "output_type": "stream",
     "text": [
      "Enter first number45\n",
      "Enter second number44\n",
      "<class 'str'>\n",
      "<class 'int'>\n"
     ]
    }
   ],
   "source": [
    "a=input(\"Enter first number\") \n",
    "b=int(input(\"Enter second number\"))\n",
    "## here it prints both\n",
    "print(type(a))\n",
    "print(type(b))"
   ]
  },
  {
   "cell_type": "code",
   "execution_count": null,
   "id": "1bcaab81",
   "metadata": {},
   "outputs": [],
   "source": [
    "a=10\n",
    "b=20\n",
    "c=\"ssr\"\n",
    "d=[1,2,3,4]\n",
    "a,b,c,d=10,20,\"ssr\",[1,2,3,4] ## same like above"
   ]
  },
  {
   "cell_type": "code",
   "execution_count": 125,
   "id": "7c393acd",
   "metadata": {},
   "outputs": [
    {
     "name": "stdout",
     "output_type": "stream",
     "text": [
      "<class 'tuple'>\n"
     ]
    },
    {
     "data": {
      "text/plain": [
       "list"
      ]
     },
     "execution_count": 125,
     "metadata": {},
     "output_type": "execute_result"
    }
   ],
   "source": [
    "## tuple () is a collection\n",
    "a=(1,2,3,\"ssr\",4,4.5)\n",
    "print(type(a))\n",
    "b=[1,2,3,\"ffgd\",4,4.3]\n",
    "type(b)"
   ]
  },
  {
   "cell_type": "code",
   "execution_count": 130,
   "id": "65d5cb01",
   "metadata": {},
   "outputs": [
    {
     "ename": "TypeError",
     "evalue": "'tuple' object does not support item assignment",
     "output_type": "error",
     "traceback": [
      "\u001b[1;31m---------------------------------------------------------------------------\u001b[0m",
      "\u001b[1;31mTypeError\u001b[0m                                 Traceback (most recent call last)",
      "\u001b[1;32m<ipython-input-130-c657950afce0>\u001b[0m in \u001b[0;36m<module>\u001b[1;34m\u001b[0m\n\u001b[0;32m      2\u001b[0m \u001b[0ma\u001b[0m\u001b[1;33m=\u001b[0m\u001b[1;33m(\u001b[0m\u001b[1;36m1\u001b[0m\u001b[1;33m,\u001b[0m\u001b[1;36m2\u001b[0m\u001b[1;33m,\u001b[0m\u001b[1;36m3\u001b[0m\u001b[1;33m,\u001b[0m\u001b[1;34m\"ssr\"\u001b[0m\u001b[1;33m,\u001b[0m\u001b[1;36m4\u001b[0m\u001b[1;33m,\u001b[0m\u001b[1;36m4.5\u001b[0m\u001b[1;33m)\u001b[0m\u001b[1;33m\u001b[0m\u001b[1;33m\u001b[0m\u001b[0m\n\u001b[0;32m      3\u001b[0m \u001b[0ma\u001b[0m\u001b[1;33m[\u001b[0m\u001b[1;36m0\u001b[0m\u001b[1;33m:\u001b[0m\u001b[1;36m5\u001b[0m\u001b[1;33m]\u001b[0m\u001b[1;33m\u001b[0m\u001b[1;33m\u001b[0m\u001b[0m\n\u001b[1;32m----> 4\u001b[1;33m \u001b[0ma\u001b[0m\u001b[1;33m[\u001b[0m\u001b[1;36m0\u001b[0m\u001b[1;33m]\u001b[0m\u001b[1;33m=\u001b[0m\u001b[1;34m\"bbb\"\u001b[0m\u001b[1;33m\u001b[0m\u001b[1;33m\u001b[0m\u001b[0m\n\u001b[0m\u001b[0;32m      5\u001b[0m \u001b[0ma\u001b[0m\u001b[1;33m\u001b[0m\u001b[1;33m\u001b[0m\u001b[0m\n",
      "\u001b[1;31mTypeError\u001b[0m: 'tuple' object does not support item assignment"
     ]
    }
   ],
   "source": [
    "## tuple\n",
    "a=(1,2,3,\"ssr\",4,4.5)\n",
    "a[0:5]\n",
    "a[0]=\"bbb\" ## can not change . its called immutable entity or immutability\n",
    "a"
   ]
  },
  {
   "cell_type": "code",
   "execution_count": 129,
   "id": "6ad8a688",
   "metadata": {},
   "outputs": [
    {
     "data": {
      "text/plain": [
       "['aaa', 2, 3, 'ffgd', 4, 4.3]"
      ]
     },
     "execution_count": 129,
     "metadata": {},
     "output_type": "execute_result"
    }
   ],
   "source": [
    "## list\n",
    "b=[1,2,3,\"ffgd\",4,4.3]\n",
    "b[0:5]\n",
    "b[0]=\"aaa\" ## reassingment operation at zero index, mutable entity\n",
    "b"
   ]
  },
  {
   "cell_type": "code",
   "execution_count": 131,
   "id": "464cf66a",
   "metadata": {},
   "outputs": [
    {
     "ename": "TypeError",
     "evalue": "'str' object does not support item assignment",
     "output_type": "error",
     "traceback": [
      "\u001b[1;31m---------------------------------------------------------------------------\u001b[0m",
      "\u001b[1;31mTypeError\u001b[0m                                 Traceback (most recent call last)",
      "\u001b[1;32m<ipython-input-131-a6ed3ec805d7>\u001b[0m in \u001b[0;36m<module>\u001b[1;34m\u001b[0m\n\u001b[0;32m      1\u001b[0m \u001b[0ms\u001b[0m\u001b[1;33m=\u001b[0m\u001b[1;34m\"Samr\"\u001b[0m\u001b[1;33m\u001b[0m\u001b[1;33m\u001b[0m\u001b[0m\n\u001b[1;32m----> 2\u001b[1;33m \u001b[0ms\u001b[0m\u001b[1;33m[\u001b[0m\u001b[1;36m0\u001b[0m\u001b[1;33m]\u001b[0m\u001b[1;33m=\u001b[0m\u001b[1;34m\"R\"\u001b[0m\u001b[1;33m\u001b[0m\u001b[1;33m\u001b[0m\u001b[0m\n\u001b[0m",
      "\u001b[1;31mTypeError\u001b[0m: 'str' object does not support item assignment"
     ]
    }
   ],
   "source": [
    "s=\"Samr\"   \n",
    "s[0]=\"R\" ## immutable  string"
   ]
  }
 ],
 "metadata": {
  "kernelspec": {
   "display_name": "Python 3",
   "language": "python",
   "name": "python3"
  },
  "language_info": {
   "codemirror_mode": {
    "name": "ipython",
    "version": 3
   },
   "file_extension": ".py",
   "mimetype": "text/x-python",
   "name": "python",
   "nbconvert_exporter": "python",
   "pygments_lexer": "ipython3",
   "version": "3.8.8"
  }
 },
 "nbformat": 4,
 "nbformat_minor": 5
}
